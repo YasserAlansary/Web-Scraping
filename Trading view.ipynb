{
 "cells": [
  {
   "cell_type": "code",
   "execution_count": 1,
   "id": "3f16f04b",
   "metadata": {},
   "outputs": [],
   "source": [
    "from selenium.webdriver import Edge\n",
    "from selenium.webdriver.common.keys import Keys\n",
    "from selenium.webdriver.common.by import By\n",
    "from selenium.webdriver import ActionChains\n",
    "from selenium.webdriver.support.ui import Select\n",
    "from selenium.webdriver.support import expected_conditions\n",
    "from selenium.common.exceptions import NoSuchElementException\n",
    "from openpyxl import load_workbook\n",
    "import pandas as pd \n",
    "import numpy as np\n"
   ]
  },
  {
   "cell_type": "code",
   "execution_count": 2,
   "id": "36f7c543",
   "metadata": {},
   "outputs": [],
   "source": [
    "url='https://www.tradingview.com/markets/stocks-usa/market-movers-all-stocks/'\n",
    "driver_path= 'msedgedriver'\n",
    "\n",
    "browser= Edge(executable_path= driver_path)\n",
    "browser.get(url)"
   ]
  },
  {
   "cell_type": "code",
   "execution_count": 56,
   "id": "3b405edc",
   "metadata": {},
   "outputs": [
    {
     "data": {
      "text/plain": [
       "'\\ncategory=\\'overview\\'\\nelement_tab= browser.find_element(By.XPATH, f\\'//*[@id=\"{category}\"]\\')\\nelement_tab.click()\\n\\ndf = pd.read_html(browser.page_source)[1]\\ndf\\n'"
      ]
     },
     "execution_count": 56,
     "metadata": {},
     "output_type": "execute_result"
    }
   ],
   "source": [
    "'''\n",
    "category='overview'\n",
    "element_tab= browser.find_element(By.XPATH, f'//*[@id=\"{category}\"]')\n",
    "element_tab.click()\n",
    "\n",
    "df = pd.read_html(browser.page_source)[1]\n",
    "df\n",
    "'''"
   ]
  },
  {
   "cell_type": "code",
   "execution_count": 80,
   "id": "15b28bca",
   "metadata": {},
   "outputs": [
    {
     "name": "stdout",
     "output_type": "stream",
     "text": [
      "Processing Report: overview\n",
      "Processing Report: performance\n",
      "Processing Report: valuation\n",
      "Processing Report: dividends\n",
      "Processing Report: profitability\n",
      "Processing Report: incomeStatement\n",
      "Processing Report: balanceSheet\n",
      "Processing Report: cashFlow\n",
      "Processing Report: oscillators\n",
      "Processing Report: trendFollowing\n"
     ]
    }
   ],
   "source": [
    "writer = pd.ExcelWriter('F:\\\\New folder\\\\Stocks.xlsx', engine='xlsxwriter')\n",
    "categories=['overview','performance','valuation','dividends','profitability', 'incomeStatement', \n",
    "            'balanceSheet', 'cashFlow', 'oscillators','trendFollowing']\n",
    "#//*[@id=\"oscillators\"]/span\n",
    "for category in categories:\n",
    "    print(f'Processing Report: {category}')\n",
    "    \n",
    "    element_tab= browser.find_element(By.XPATH, f'//*[@id=\"{category}\"]')\n",
    "    element_tab.click()\n",
    "    \n",
    "    df = pd.read_html(browser.page_source)[1]\n",
    "    df.to_excel(writer, sheet_name = category, index=False)\n",
    "\n",
    "writer.save()"
   ]
  },
  {
   "cell_type": "code",
   "execution_count": 3,
   "id": "4c62cf61",
   "metadata": {},
   "outputs": [],
   "source": [
    "url='https://www.tradingview.com/markets/cryptocurrencies/prices-all/'\n",
    "driver_path= 'msedgedriver'\n",
    "\n",
    "browser= Edge(executable_path= driver_path)\n",
    "browser.get(url)"
   ]
  },
  {
   "cell_type": "code",
   "execution_count": 45,
   "id": "29c83f92",
   "metadata": {
    "scrolled": true
   },
   "outputs": [
    {
     "data": {
      "text/plain": [
       "['Overview',\n",
       " 'Performance',\n",
       " 'Valuation',\n",
       " 'Addresses',\n",
       " 'Transactions',\n",
       " 'Gains and Losses',\n",
       " 'Sentiment',\n",
       " 'Oscillators']"
      ]
     },
     "execution_count": 45,
     "metadata": {},
     "output_type": "execute_result"
    }
   ],
   "source": [
    "category = browser.find_elements(By.XPATH,'//span[starts-with(@class,\"content-mf1FlhVw\")]')\n",
    "\n",
    "categories=[]\n",
    "for cat in category:\n",
    "    text= cat.text\n",
    "    categories.append(text)\n",
    "\n",
    "del categories[-1]\n",
    "categories"
   ]
  },
  {
   "cell_type": "code",
   "execution_count": 50,
   "id": "cdb80a76",
   "metadata": {},
   "outputs": [
    {
     "data": {
      "text/plain": [
       "['overview',\n",
       " 'performance',\n",
       " 'valuation',\n",
       " 'addresses',\n",
       " 'transactions',\n",
       " 'gainsAndLosses',\n",
       " 'sentiment',\n",
       " 'oscillators']"
      ]
     },
     "execution_count": 50,
     "metadata": {},
     "output_type": "execute_result"
    }
   ],
   "source": [
    "Categories = []\n",
    "for category in categories:\n",
    "    category = category.lower()\n",
    "    Categories.append(category)\n",
    "Categories[5]='gainsAndLosses'\n",
    "Categories"
   ]
  },
  {
   "cell_type": "code",
   "execution_count": 55,
   "id": "0e6f2d38",
   "metadata": {},
   "outputs": [],
   "source": [
    "#//*[@id=\"gainsAndLosses\"]/span\n",
    "\n",
    "writer = pd.ExcelWriter('F:\\\\New folder\\\\Cryptocurrencies.xlsx', engine='xlsxwriter')\n",
    "\n",
    "for category in Categories:\n",
    "    browser.find_element(By.XPATH,f'//*[@id=\"{category}\"]').click()\n",
    "    load_more = True\n",
    "    while load_more:\n",
    "            try:\n",
    "                browser.find_element(By.CLASS_NAME,\"loadButton-SFwfC2e0\").click()\n",
    "            except NoSuchElementException:\n",
    "                load_more= False\n",
    "    df = pd.read_html(browser.page_source)[1]\n",
    "    df.to_excel(writer, sheet_name = category, index=False)\n",
    "    \n",
    "    \n",
    "writer.save()"
   ]
  },
  {
   "cell_type": "code",
   "execution_count": 52,
   "id": "22b0a863",
   "metadata": {},
   "outputs": [
    {
     "data": {
      "text/html": [
       "<div>\n",
       "<style scoped>\n",
       "    .dataframe tbody tr th:only-of-type {\n",
       "        vertical-align: middle;\n",
       "    }\n",
       "\n",
       "    .dataframe tbody tr th {\n",
       "        vertical-align: top;\n",
       "    }\n",
       "\n",
       "    .dataframe thead th {\n",
       "        text-align: right;\n",
       "    }\n",
       "</style>\n",
       "<table border=\"1\" class=\"dataframe\">\n",
       "  <thead>\n",
       "    <tr style=\"text-align: right;\">\n",
       "      <th></th>\n",
       "      <th>Coin</th>\n",
       "      <th>Rank</th>\n",
       "      <th>Market cap</th>\n",
       "      <th>Twitter(positive)</th>\n",
       "      <th>Twitter(negative)</th>\n",
       "      <th>Telegram(positive)</th>\n",
       "      <th>Telegram(negative)</th>\n",
       "      <th>Telegram members</th>\n",
       "      <th>GitHub commits</th>\n",
       "    </tr>\n",
       "  </thead>\n",
       "  <tbody>\n",
       "    <tr>\n",
       "      <th>0</th>\n",
       "      <td>BTCBitcoin</td>\n",
       "      <td>1</td>\n",
       "      <td>557.916B USD</td>\n",
       "      <td>19608</td>\n",
       "      <td>1972</td>\n",
       "      <td>603</td>\n",
       "      <td>162</td>\n",
       "      <td>—</td>\n",
       "      <td>41.27K</td>\n",
       "    </tr>\n",
       "    <tr>\n",
       "      <th>1</th>\n",
       "      <td>ETHEthereum</td>\n",
       "      <td>2</td>\n",
       "      <td>228.485B USD</td>\n",
       "      <td>8498</td>\n",
       "      <td>927</td>\n",
       "      <td>668</td>\n",
       "      <td>114</td>\n",
       "      <td>—</td>\n",
       "      <td>347.521K</td>\n",
       "    </tr>\n",
       "    <tr>\n",
       "      <th>2</th>\n",
       "      <td>USDTTether</td>\n",
       "      <td>3</td>\n",
       "      <td>82.308B USD</td>\n",
       "      <td>1572</td>\n",
       "      <td>32</td>\n",
       "      <td>448</td>\n",
       "      <td>112</td>\n",
       "      <td>—</td>\n",
       "      <td>—</td>\n",
       "    </tr>\n",
       "    <tr>\n",
       "      <th>3</th>\n",
       "      <td>BNBBNB</td>\n",
       "      <td>4</td>\n",
       "      <td>50.488B USD</td>\n",
       "      <td>—</td>\n",
       "      <td>—</td>\n",
       "      <td>—</td>\n",
       "      <td>—</td>\n",
       "      <td>—</td>\n",
       "      <td>—</td>\n",
       "    </tr>\n",
       "    <tr>\n",
       "      <th>4</th>\n",
       "      <td>USDCUSD Coin</td>\n",
       "      <td>5</td>\n",
       "      <td>30.434B USD</td>\n",
       "      <td>585</td>\n",
       "      <td>63</td>\n",
       "      <td>63</td>\n",
       "      <td>6</td>\n",
       "      <td>—</td>\n",
       "      <td>3.216K</td>\n",
       "    </tr>\n",
       "    <tr>\n",
       "      <th>...</th>\n",
       "      <td>...</td>\n",
       "      <td>...</td>\n",
       "      <td>...</td>\n",
       "      <td>...</td>\n",
       "      <td>...</td>\n",
       "      <td>...</td>\n",
       "      <td>...</td>\n",
       "      <td>...</td>\n",
       "      <td>...</td>\n",
       "    </tr>\n",
       "    <tr>\n",
       "      <th>743</th>\n",
       "      <td>TNBTime New Bank</td>\n",
       "      <td>746</td>\n",
       "      <td>1.352M USD</td>\n",
       "      <td>0</td>\n",
       "      <td>0</td>\n",
       "      <td>0</td>\n",
       "      <td>0</td>\n",
       "      <td>1.508K</td>\n",
       "      <td>46</td>\n",
       "    </tr>\n",
       "    <tr>\n",
       "      <th>744</th>\n",
       "      <td>NGMe-Money</td>\n",
       "      <td>747</td>\n",
       "      <td>335.925K USD</td>\n",
       "      <td>—</td>\n",
       "      <td>—</td>\n",
       "      <td>—</td>\n",
       "      <td>—</td>\n",
       "      <td>—</td>\n",
       "      <td>—</td>\n",
       "    </tr>\n",
       "    <tr>\n",
       "      <th>745</th>\n",
       "      <td>CLTCoinLoan</td>\n",
       "      <td>—</td>\n",
       "      <td>—</td>\n",
       "      <td>—</td>\n",
       "      <td>—</td>\n",
       "      <td>—</td>\n",
       "      <td>—</td>\n",
       "      <td>—</td>\n",
       "      <td>—</td>\n",
       "    </tr>\n",
       "    <tr>\n",
       "      <th>746</th>\n",
       "      <td>1ECO1eco</td>\n",
       "      <td>—</td>\n",
       "      <td>—</td>\n",
       "      <td>—</td>\n",
       "      <td>—</td>\n",
       "      <td>—</td>\n",
       "      <td>—</td>\n",
       "      <td>—</td>\n",
       "      <td>—</td>\n",
       "    </tr>\n",
       "    <tr>\n",
       "      <th>747</th>\n",
       "      <td>PLTCPlatonCoin</td>\n",
       "      <td>—</td>\n",
       "      <td>—</td>\n",
       "      <td>—</td>\n",
       "      <td>—</td>\n",
       "      <td>—</td>\n",
       "      <td>—</td>\n",
       "      <td>73</td>\n",
       "      <td>—</td>\n",
       "    </tr>\n",
       "  </tbody>\n",
       "</table>\n",
       "<p>748 rows × 9 columns</p>\n",
       "</div>"
      ],
      "text/plain": [
       "                 Coin Rank    Market cap Twitter(positive) Twitter(negative)  \\\n",
       "0          BTCBitcoin    1  557.916B USD             19608              1972   \n",
       "1         ETHEthereum    2  228.485B USD              8498               927   \n",
       "2          USDTTether    3   82.308B USD              1572                32   \n",
       "3              BNBBNB    4   50.488B USD                 —                 —   \n",
       "4        USDCUSD Coin    5   30.434B USD               585                63   \n",
       "..                ...  ...           ...               ...               ...   \n",
       "743  TNBTime New Bank  746    1.352M USD                 0                 0   \n",
       "744        NGMe-Money  747  335.925K USD                 —                 —   \n",
       "745       CLTCoinLoan    —             —                 —                 —   \n",
       "746          1ECO1eco    —             —                 —                 —   \n",
       "747    PLTCPlatonCoin    —             —                 —                 —   \n",
       "\n",
       "    Telegram(positive) Telegram(negative) Telegram members GitHub commits  \n",
       "0                  603                162                —         41.27K  \n",
       "1                  668                114                —       347.521K  \n",
       "2                  448                112                —              —  \n",
       "3                    —                  —                —              —  \n",
       "4                   63                  6                —         3.216K  \n",
       "..                 ...                ...              ...            ...  \n",
       "743                  0                  0           1.508K             46  \n",
       "744                  —                  —                —              —  \n",
       "745                  —                  —                —              —  \n",
       "746                  —                  —                —              —  \n",
       "747                  —                  —               73              —  \n",
       "\n",
       "[748 rows x 9 columns]"
      ]
     },
     "execution_count": 52,
     "metadata": {},
     "output_type": "execute_result"
    }
   ],
   "source": [
    "df"
   ]
  },
  {
   "cell_type": "code",
   "execution_count": null,
   "id": "9b1b14c0",
   "metadata": {},
   "outputs": [],
   "source": []
  },
  {
   "cell_type": "code",
   "execution_count": null,
   "id": "98882bee",
   "metadata": {},
   "outputs": [],
   "source": []
  }
 ],
 "metadata": {
  "kernelspec": {
   "display_name": "Python 3 (ipykernel)",
   "language": "python",
   "name": "python3"
  },
  "language_info": {
   "codemirror_mode": {
    "name": "ipython",
    "version": 3
   },
   "file_extension": ".py",
   "mimetype": "text/x-python",
   "name": "python",
   "nbconvert_exporter": "python",
   "pygments_lexer": "ipython3",
   "version": "3.9.7"
  }
 },
 "nbformat": 4,
 "nbformat_minor": 5
}
